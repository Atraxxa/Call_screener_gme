{
 "cells": [
  {
   "cell_type": "code",
   "execution_count": 25,
   "metadata": {},
   "outputs": [
    {
     "ename": "SyntaxError",
     "evalue": "invalid syntax (4101332585.py, line 4)",
     "output_type": "error",
     "traceback": [
      "\u001b[1;36m  File \u001b[1;32m\"C:\\Users\\David Drouin\\AppData\\Local\\Temp\\ipykernel_51916\\4101332585.py\"\u001b[1;36m, line \u001b[1;32m4\u001b[0m\n\u001b[1;33m    from Covered_calls.py import get_processed_dataframe()\u001b[0m\n\u001b[1;37m                                                        ^\u001b[0m\n\u001b[1;31mSyntaxError\u001b[0m\u001b[1;31m:\u001b[0m invalid syntax\n"
     ]
    }
   ],
   "source": [
    "import pandas as pd\n",
    "import time\n",
    "import datetime\n",
    "from Covered_calls.py import get_processed_dataframe\n"
   ]
  },
  {
   "cell_type": "code",
   "execution_count": 15,
   "metadata": {},
   "outputs": [],
   "source": [
    "# Define a function to check if a dataframe has been fetched for the current date\n",
    "def is_dataframe_fetched_today(date_dataframes):\n",
    "    today = time.strftime('%Y-%m-%d')\n",
    "    return today in date_dataframes\n"
   ]
  },
  {
   "cell_type": "code",
   "execution_count": 16,
   "metadata": {},
   "outputs": [],
   "source": [
    "def fetch_dataframe():\n",
    "    # Call the function and save the processed data to a CSV file\n",
    "    df_processed = Covered_calls.get_processed_dataframe()\n",
    "    today = pd.Timestamp.today().strftime('%Y-%m-%d')\n",
    "    filename = f'Covered_calls_output_{today}.csv'\n",
    "    df_processed.to_csv(filename, index=False)\n",
    "    return df_processed"
   ]
  },
  {
   "cell_type": "code",
   "execution_count": 17,
   "metadata": {},
   "outputs": [],
   "source": [
    "# Define a function to save a dataframe to a file with the given date as the filename\n",
    "def save_dataframe(df, date):\n",
    "    df.to_csv(f\"{date}.csv\", index=True)"
   ]
  },
  {
   "cell_type": "code",
   "execution_count": 18,
   "metadata": {},
   "outputs": [],
   "source": [
    "# Define a function to load a dataframe from a file with the given date as the filename\n",
    "def load_dataframe(date):\n",
    "    df = pd.read_csv(f\"{date}.csv\", index_col=0)\n",
    "    return df"
   ]
  },
  {
   "cell_type": "code",
   "execution_count": 19,
   "metadata": {},
   "outputs": [],
   "source": [
    "# Define a function to update the dataframes in parallel dimensions\n",
    "def update_dataframes(date_dataframes):\n",
    "    today = time.strftime('%Y-%m-%d')\n",
    "    start_date = datetime.datetime(2023, 2, 14).strftime('%Y-%m-%d')\n",
    "    dates = pd.date_range(start=start_date, end=today, freq='D').strftime('%Y-%m-%d')\n",
    "\n",
    "    # Check if df_processed has been fetched for today\n",
    "    if is_dataframe_fetched_today(date_dataframes):\n",
    "        df_today = date_dataframes[today]\n",
    "        df_today = df_today.set_index('contractSymbol')\n",
    "    else:\n",
    "        df_today = fetch_dataframe()\n",
    "        date_dataframes[today] = df_today\n",
    "        save_dataframe(df_today, today)\n",
    "\n",
    "    # Update the dataframes for all previous dates\n",
    "    for date in dates:\n",
    "        if date == today:\n",
    "            continue\n",
    "\n",
    "        if date not in date_dataframes:\n",
    "            date_dataframes[date] = pd.DataFrame(index=pd.Index([], dtype='object'), columns=df_today.columns)\n",
    "\n",
    "        df = date_dataframes[date]\n",
    "\n",
    "        # Merge the new data with the existing data\n",
    "        df_merged = pd.merge(df, df_today, on='contractSymbol', how='outer', suffixes=('', '_new'))\n",
    "        df_merged = df_merged.drop(columns=[col for col in df_today.columns if col != 'contractSymbol'])\n",
    "        df_merged = df_merged.rename(columns={col: col.replace('_new', '') for col in df_merged.columns})\n",
    "\n",
    "        # Save the merged data to the file\n",
    "        date_dataframes[date] = df_merged\n",
    "        save_dataframe(df_merged, date)\n",
    "\n",
    "    # Return the current day dataframe\n",
    "    return df_today"
   ]
  },
  {
   "cell_type": "code",
   "execution_count": 20,
   "metadata": {},
   "outputs": [
    {
     "ename": "NameError",
     "evalue": "name 'covered_calls' is not defined",
     "output_type": "error",
     "traceback": [
      "\u001b[1;31m---------------------------------------------------------------------------\u001b[0m",
      "\u001b[1;31mNameError\u001b[0m                                 Traceback (most recent call last)",
      "\u001b[1;32m~\\AppData\\Local\\Temp\\ipykernel_51916\\3973626157.py\u001b[0m in \u001b[0;36m<module>\u001b[1;34m\u001b[0m\n\u001b[0;32m      3\u001b[0m \u001b[1;33m\u001b[0m\u001b[0m\n\u001b[0;32m      4\u001b[0m \u001b[1;31m# Update the dataframes and get the current day dataframe\u001b[0m\u001b[1;33m\u001b[0m\u001b[1;33m\u001b[0m\u001b[0m\n\u001b[1;32m----> 5\u001b[1;33m \u001b[0mdf_today\u001b[0m \u001b[1;33m=\u001b[0m \u001b[0mupdate_dataframes\u001b[0m\u001b[1;33m(\u001b[0m\u001b[0mdate_dataframes\u001b[0m\u001b[1;33m)\u001b[0m\u001b[1;33m\u001b[0m\u001b[1;33m\u001b[0m\u001b[0m\n\u001b[0m",
      "\u001b[1;32m~\\AppData\\Local\\Temp\\ipykernel_51916\\3401805592.py\u001b[0m in \u001b[0;36mupdate_dataframes\u001b[1;34m(date_dataframes)\u001b[0m\n\u001b[0;32m     10\u001b[0m         \u001b[0mdf_today\u001b[0m \u001b[1;33m=\u001b[0m \u001b[0mdf_today\u001b[0m\u001b[1;33m.\u001b[0m\u001b[0mset_index\u001b[0m\u001b[1;33m(\u001b[0m\u001b[1;34m'contractSymbol'\u001b[0m\u001b[1;33m)\u001b[0m\u001b[1;33m\u001b[0m\u001b[1;33m\u001b[0m\u001b[0m\n\u001b[0;32m     11\u001b[0m     \u001b[1;32melse\u001b[0m\u001b[1;33m:\u001b[0m\u001b[1;33m\u001b[0m\u001b[1;33m\u001b[0m\u001b[0m\n\u001b[1;32m---> 12\u001b[1;33m         \u001b[0mdf_today\u001b[0m \u001b[1;33m=\u001b[0m \u001b[0mfetch_dataframe\u001b[0m\u001b[1;33m(\u001b[0m\u001b[1;33m)\u001b[0m\u001b[1;33m\u001b[0m\u001b[1;33m\u001b[0m\u001b[0m\n\u001b[0m\u001b[0;32m     13\u001b[0m         \u001b[0mdate_dataframes\u001b[0m\u001b[1;33m[\u001b[0m\u001b[0mtoday\u001b[0m\u001b[1;33m]\u001b[0m \u001b[1;33m=\u001b[0m \u001b[0mdf_today\u001b[0m\u001b[1;33m\u001b[0m\u001b[1;33m\u001b[0m\u001b[0m\n\u001b[0;32m     14\u001b[0m         \u001b[0msave_dataframe\u001b[0m\u001b[1;33m(\u001b[0m\u001b[0mdf_today\u001b[0m\u001b[1;33m,\u001b[0m \u001b[0mtoday\u001b[0m\u001b[1;33m)\u001b[0m\u001b[1;33m\u001b[0m\u001b[1;33m\u001b[0m\u001b[0m\n",
      "\u001b[1;32m~\\AppData\\Local\\Temp\\ipykernel_51916\\1376456424.py\u001b[0m in \u001b[0;36mfetch_dataframe\u001b[1;34m()\u001b[0m\n\u001b[0;32m      1\u001b[0m \u001b[1;32mdef\u001b[0m \u001b[0mfetch_dataframe\u001b[0m\u001b[1;33m(\u001b[0m\u001b[1;33m)\u001b[0m\u001b[1;33m:\u001b[0m\u001b[1;33m\u001b[0m\u001b[1;33m\u001b[0m\u001b[0m\n\u001b[0;32m      2\u001b[0m     \u001b[1;31m# Call the function and save the processed data to a CSV file\u001b[0m\u001b[1;33m\u001b[0m\u001b[1;33m\u001b[0m\u001b[0m\n\u001b[1;32m----> 3\u001b[1;33m     \u001b[0mdf_processed\u001b[0m \u001b[1;33m=\u001b[0m \u001b[0mcovered_calls\u001b[0m\u001b[1;33m.\u001b[0m\u001b[0mget_processed_dataframe\u001b[0m\u001b[1;33m(\u001b[0m\u001b[1;33m)\u001b[0m\u001b[1;33m\u001b[0m\u001b[1;33m\u001b[0m\u001b[0m\n\u001b[0m\u001b[0;32m      4\u001b[0m     \u001b[0mtoday\u001b[0m \u001b[1;33m=\u001b[0m \u001b[0mpd\u001b[0m\u001b[1;33m.\u001b[0m\u001b[0mTimestamp\u001b[0m\u001b[1;33m.\u001b[0m\u001b[0mtoday\u001b[0m\u001b[1;33m(\u001b[0m\u001b[1;33m)\u001b[0m\u001b[1;33m.\u001b[0m\u001b[0mstrftime\u001b[0m\u001b[1;33m(\u001b[0m\u001b[1;34m'%Y-%m-%d'\u001b[0m\u001b[1;33m)\u001b[0m\u001b[1;33m\u001b[0m\u001b[1;33m\u001b[0m\u001b[0m\n\u001b[0;32m      5\u001b[0m     \u001b[0mfilename\u001b[0m \u001b[1;33m=\u001b[0m \u001b[1;34mf'Covered_calls_output_{today}.csv'\u001b[0m\u001b[1;33m\u001b[0m\u001b[1;33m\u001b[0m\u001b[0m\n",
      "\u001b[1;31mNameError\u001b[0m: name 'covered_calls' is not defined"
     ]
    }
   ],
   "source": [
    "# Create an empty dictionary to store the dataframes\n",
    "date_dataframes = {}\n",
    "\n",
    "# Update the dataframes and get the current day dataframe\n",
    "df_today = update_dataframes(date_dataframes)"
   ]
  },
  {
   "cell_type": "code",
   "execution_count": null,
   "metadata": {},
   "outputs": [],
   "source": [
    "# Define a function to export a dataframe to an Excel file\n",
    "def export_dataframe(date_dataframes, date):\n",
    "    df = date_dataframes[date]\n",
    "    writer = pd.ExcelWriter(f\"{date}.xlsx\")\n",
    "    df.to_excel(writer, sheet_name='data', index=True)\n",
    "    writer.save()"
   ]
  },
  {
   "cell_type": "code",
   "execution_count": null,
   "metadata": {},
   "outputs": [],
   "source": [
    "# Export a dataframe to an Excel file\n",
    "export_dataframe(date_dataframes, '2023-02-14')"
   ]
  }
 ],
 "metadata": {
  "kernelspec": {
   "display_name": "base",
   "language": "python",
   "name": "python3"
  },
  "language_info": {
   "codemirror_mode": {
    "name": "ipython",
    "version": 3
   },
   "file_extension": ".py",
   "mimetype": "text/x-python",
   "name": "python",
   "nbconvert_exporter": "python",
   "pygments_lexer": "ipython3",
   "version": "3.9.13"
  },
  "orig_nbformat": 4,
  "vscode": {
   "interpreter": {
    "hash": "b51f55c988e52993ca0ff480b3ce20dcf877c4c46424b80adef1011226471b4e"
   }
  }
 },
 "nbformat": 4,
 "nbformat_minor": 2
}
